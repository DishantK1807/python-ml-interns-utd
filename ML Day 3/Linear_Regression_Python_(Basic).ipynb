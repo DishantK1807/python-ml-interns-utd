{
  "nbformat": 4,
  "nbformat_minor": 0,
  "metadata": {
    "colab": {
      "name": "Linear Regression_Python (Basic).ipynb",
      "provenance": []
    },
    "kernelspec": {
      "name": "python3",
      "display_name": "Python 3"
    }
  },
  "cells": [
    {
      "cell_type": "code",
      "metadata": {
        "id": "ezTGZbVFbLqN",
        "colab_type": "code",
        "colab": {}
      },
      "source": [
        "import numpy as np\n",
        "import matplotlib.pyplot as plt"
      ],
      "execution_count": 0,
      "outputs": []
    },
    {
      "cell_type": "code",
      "metadata": {
        "id": "oGaDlGRxx03V",
        "colab_type": "code",
        "outputId": "4b495ddb-307a-49f0-fd44-0705b59bd3ed",
        "colab": {
          "base_uri": "https://localhost:8080/",
          "height": 358
        }
      },
      "source": [
        "def main():\n",
        "  # observations\n",
        "  x = np.array([0, 1, 2, 3, 4, 5, 6, 7, 8, 9])\n",
        "  y = np.array([1, 3, 2, 5, 7, 8, 8, 9, 10, 12])\n",
        "  x1 = np.array([10,11,12,13,14,15,16,17,18,19])\n",
        "  \n",
        "  # estimating coefficients\n",
        "  n = np.size(x)\n",
        "  # 10\n",
        "  \n",
        "  # mean of x and y vector\n",
        "  m_x, m_y = np.mean(x), np.mean(y)\n",
        "  \n",
        "  # calculating cross-deviation and deviation about x\n",
        "  SS_xy = np.sum(y*x) - n*m_y*m_x\n",
        "  SS_xx = np.sum(x*x) - n*m_x*m_x\n",
        "  \n",
        "  # calculating regression coefficients\n",
        "  b_1 = SS_xy / SS_xx # Slope\n",
        "  b_0 = m_y - b_1*m_x \n",
        "  plt.scatter(x, y, color = \"m\", marker = \"o\", s = 30)\n",
        "  print(\"Estimated coefficients:\\nb_0 = {} \\nb_1 = {}\".format(b_0, b_1))\n",
        "\n",
        "  y_pred = b_1*x + b_0\n",
        "  print(y_pred)\n",
        "  plt.plot(x1, y_pred)\n",
        "\n",
        "\t\n",
        "if __name__ == \"__main__\":\n",
        "\tmain()\n"
      ],
      "execution_count": 0,
      "outputs": [
        {
          "output_type": "stream",
          "text": [
            "Estimated coefficients:\n",
            "b_0 = 1.2363636363636363 \n",
            "b_1 = 1.1696969696969697\n",
            "[ 1.23636364  2.40606061  3.57575758  4.74545455  5.91515152  7.08484848\n",
            "  8.25454545  9.42424242 10.59393939 11.76363636]\n"
          ],
          "name": "stdout"
        },
        {
          "output_type": "display_data",
          "data": {
            "image/png": "[encoded data removed]",
            "text/plain": [
              "<Figure size 432x288 with 1 Axes>"
            ]
          },
          "metadata": {
            "tags": []
          }
        }
      ]
    }
  ]
}