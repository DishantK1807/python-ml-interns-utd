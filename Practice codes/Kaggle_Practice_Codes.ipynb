{
  "nbformat": 4,
  "nbformat_minor": 0,
  "metadata": {
    "colab": {
      "name": "Kaggle_Practice_Codes.ipynb",
      "provenance": []
    },
    "kernelspec": {
      "name": "python3",
      "display_name": "Python 3"
    },
    "accelerator": "TPU"
  },
  "cells": [
    {
      "cell_type": "code",
      "metadata": {
        "id": "AmL0B3oOlsF8",
        "colab_type": "code",
        "outputId": "c269a905-4d8e-41a8-9ee3-af201824fe69",
        "colab": {
          "base_uri": "https://localhost:8080/",
          "height": 36
        }
      },
      "source": [
        "example_dict = {1: \"value1\", 2: \"value2\", 3:\"value1\" }\n",
        "print(example_dict.items())"
      ],
      "execution_count": 0,
      "outputs": [
        {
          "output_type": "stream",
          "text": [
            "dict_items([(1, 'value1'), (2, 'value2'), (3, 'value1')])\n"
          ],
          "name": "stdout"
        }
      ]
    },
    {
      "cell_type": "code",
      "metadata": {
        "id": "qEoxUYOonEzI",
        "colab_type": "code",
        "outputId": "29083384-c0c9-4691-f363-37c1884e5b19",
        "colab": {
          "base_uri": "https://localhost:8080/",
          "height": 36
        }
      },
      "source": [
        "example_list = [1,2,3,4,5,5]\n",
        "set_example1 = set(example_list)\n",
        "example_list2 = [3,4,5,6,7,8]\n",
        "set_example2 = set(example_list2)\n",
        "print(set_example1.intersection(set_example2))\n"
      ],
      "execution_count": 0,
      "outputs": [
        {
          "output_type": "stream",
          "text": [
            "{3, 4, 5}\n"
          ],
          "name": "stdout"
        }
      ]
    },
    {
      "cell_type": "code",
      "metadata": {
        "id": "DJxaYu_eocYl",
        "colab_type": "code",
        "outputId": "4b3c5c2d-d076-445e-b048-bcd82b38b121",
        "colab": {
          "base_uri": "https://localhost:8080/",
          "height": 36
        }
      },
      "source": [
        "#Comprehension\n",
        "\n",
        "example_list4 = [item*2 for item in example_list if item*2 <= 8 ]\n",
        "print(example_list4)"
      ],
      "execution_count": 0,
      "outputs": [
        {
          "output_type": "stream",
          "text": [
            "[2, 4, 6, 8]\n"
          ],
          "name": "stdout"
        }
      ]
    },
    {
      "cell_type": "code",
      "metadata": {
        "id": "eCOB96aFpt9s",
        "colab_type": "code",
        "outputId": "f85b4e8b-1491-4571-ccc0-399f433081fb",
        "colab": {
          "base_uri": "https://localhost:8080/",
          "height": 36
        }
      },
      "source": [
        "example_dict2 = {value:key for key,value in example_dict.items()}\n",
        "print(example_dict2)"
      ],
      "execution_count": 0,
      "outputs": [
        {
          "output_type": "stream",
          "text": [
            "{'value1': 3, 'value2': 2}\n"
          ],
          "name": "stdout"
        }
      ]
    },
    {
      "cell_type": "code",
      "metadata": {
        "id": "kPNPWwfXsG3d",
        "colab_type": "code",
        "outputId": "4cb92e3e-591c-46d3-f33d-c9edc53adb49",
        "colab": {
          "base_uri": "https://localhost:8080/",
          "height": 36
        }
      },
      "source": [
        "a = 12\n",
        "b = 15\n",
        "print(\"This number is {1} next number is {1}\".format(a,b))"
      ],
      "execution_count": 0,
      "outputs": [
        {
          "output_type": "stream",
          "text": [
            "This number is 15 next number is 15\n"
          ],
          "name": "stdout"
        }
      ]
    },
    {
      "cell_type": "code",
      "metadata": {
        "id": "o2y7YXz-uAeU",
        "colab_type": "code",
        "outputId": "0b07c24c-858d-4cc1-dbba-e22a72d1585f",
        "colab": {
          "base_uri": "https://localhost:8080/",
          "height": 54
        }
      },
      "source": [
        "variable = input(\"Enter the number here: \")\n",
        "print(variable)"
      ],
      "execution_count": 0,
      "outputs": [
        {
          "output_type": "stream",
          "text": [
            "Enter the number here: 6\n",
            "6\n"
          ],
          "name": "stdout"
        }
      ]
    },
    {
      "cell_type": "code",
      "metadata": {
        "id": "NydthwsDu42F",
        "colab_type": "code",
        "outputId": "8dc296ad-b5d1-4e33-89e8-3b453b88d0db",
        "colab": {
          "base_uri": "https://localhost:8080/",
          "height": 36
        }
      },
      "source": [
        "list1 = [1,2,3,4,5,5,6,7,7,8]\n",
        "set1 = set(list1)\n",
        "list1 = list(set1)\n",
        "dict1 = {item: item**2 for item in list1}\n",
        "print(dict1.items())\n"
      ],
      "execution_count": 0,
      "outputs": [
        {
          "output_type": "stream",
          "text": [
            "dict_items([(1, 1), (2, 4), (3, 9), (4, 16), (5, 25), (6, 36), (7, 49), (8, 64)])\n"
          ],
          "name": "stdout"
        }
      ]
    },
    {
      "cell_type": "code",
      "metadata": {
        "id": "GntN_gh010EV",
        "colab_type": "code",
        "outputId": "c290964c-3a12-41f4-edf1-1103670002b8",
        "colab": {
          "base_uri": "https://localhost:8080/",
          "height": 36
        }
      },
      "source": [
        "\n",
        "\n",
        "if __name__ == \"__main__\":\n",
        "  nums = [1,2,4,5,7,10]\n",
        "  def has_lucky_number(nums:list) -> str:\n",
        "    a = 0 \n",
        "    for i in nums:\n",
        "      if i%7 == 0:\n",
        "        a = 1\n",
        "        break\n",
        "      else:\n",
        "        a = 0\n",
        "    if a == 1:\n",
        "      return \"this is a lucky list.\"\n",
        "    else:\n",
        "      return \"unlucky list1.\"\n",
        "\n",
        "  string = has_lucky_number(nums)\n",
        "  print(string)\n",
        "\n",
        "\n",
        "\n",
        "\n"
      ],
      "execution_count": 0,
      "outputs": [
        {
          "output_type": "stream",
          "text": [
            "this is a lucky list.\n"
          ],
          "name": "stdout"
        }
      ]
    },
    {
      "cell_type": "code",
      "metadata": {
        "id": "uoTLLsVp60dm",
        "colab_type": "code",
        "outputId": "d7f382fa-9fc6-4a2c-ed7f-f6678d62291c",
        "colab": {
          "base_uri": "https://localhost:8080/",
          "height": 36
        }
      },
      "source": [
        "def is_valid_zip(s:str) -> bool:\n",
        "  flg = True\n",
        "  if (len(s) == 5):\n",
        "    c = list(s)\n",
        "    for item in c:\n",
        "      if  not (item.isdigit()):\n",
        "        flg = False\n",
        "        break\n",
        "  else:\n",
        "    flg = False\n",
        "\n",
        "  return flg\n",
        "\n",
        "\n",
        "\n",
        "if __name__ == \"__main__\":\n",
        "  zip_code = \"1234a\"\n",
        "  zip_code_list = [\"12345\", \"1234a\", \"1234567\", \"abcde\"]\n",
        "  zip_code_set = set(zip_code_list)\n",
        "  zip_code_list1 = list(zip_code_list)\n",
        "  ret_dict = {}\n",
        "  for item in zip_code_list:\n",
        "    ret_value = is_valid_zip(item)\n",
        "    ret_dict[item] = ret_value\n",
        "\n",
        "  print(ret_dict.items())\n",
        "\n",
        "\n",
        "\n",
        "\n",
        "\n",
        "d"
      ],
      "execution_count": 0,
      "outputs": [
        {
          "output_type": "stream",
          "text": [
            "dict_items([('12345', True), ('1234a', False), ('1234567', False), ('abcde', False)])\n"
          ],
          "name": "stdout"
        }
      ]
    },
    {
      "cell_type": "code",
      "metadata": {
        "id": "-yU1oX9xCgTC",
        "colab_type": "code",
        "outputId": "bf1ba80e-a0ed-4e05-fcfa-fc472bcf4144",
        "colab": {
          "base_uri": "https://localhost:8080/",
          "height": 36
        }
      },
      "source": [
        "def word_search(s: str, words: list) -> bool:\n",
        "  str_list = s.split()\n",
        "  for c in str_list:\n",
        "    for word in words:\n",
        "      if c == word.lower():\n",
        "        return True\n",
        "\n",
        "  return False\n",
        "\n",
        "\n",
        "\n",
        "if __name__ == \"__main__\":\n",
        "  doc_list = [\"The Learn Python Challenge Casino\", \"They bought a car\", \"Casinoville\"]\n",
        "  word = [\"casino\", \"they\"]\n",
        "  ret_list = []\n",
        "  for i in range(len(doc_list)):\n",
        "    index = word_search(doc_list[i].lower(), word)\n",
        "    if (index):\n",
        "      ret_list.append(i)\n",
        "\n",
        "  print(ret_list)\n",
        "\n",
        "\n",
        "\n",
        "\n",
        "\n"
      ],
      "execution_count": 0,
      "outputs": [
        {
          "output_type": "stream",
          "text": [
            "[0, 1]\n"
          ],
          "name": "stdout"
        }
      ]
    },
    {
      "cell_type": "code",
      "metadata": {
        "id": "6pxoE_pbvFEg",
        "colab_type": "code",
        "colab": {}
      },
      "source": [
        "4"
      ],
      "execution_count": 0,
      "outputs": []
    }
  ]
}